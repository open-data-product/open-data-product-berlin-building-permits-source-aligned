{
 "cells": [
  {
   "cell_type": "markdown",
   "id": "33ed38b1",
   "metadata": {},
   "source": [
    "# Berlin Building Permits (source-aligned) - Sample Notebook"
   ]
  },
  {
   "cell_type": "markdown",
   "id": "7032fde5",
   "metadata": {},
   "source": [
    "## Explore data"
   ]
  },
  {
   "cell_type": "code",
   "execution_count": 1,
   "id": "07833831",
   "metadata": {
    "execution": {
     "iopub.execute_input": "2025-10-28T22:40:25.452977Z",
     "iopub.status.busy": "2025-10-28T22:40:25.452753Z",
     "iopub.status.idle": "2025-10-28T22:40:25.463646Z",
     "shell.execute_reply": "2025-10-28T22:40:25.463043Z"
    }
   },
   "outputs": [],
   "source": [
    "import pandas as pd\n",
    "\n",
    "# Read csv file\n",
    "dataframe = pd.read_csv(\n",
    "    \"./data/03-gold/berlin-building-permits-2025-04-csv/berlin-building-permits-2025-04-9-permits-by-district-new-buildings-with-1-or-2-apartments-districts.csv\"\n",
    ")"
   ]
  },
  {
   "cell_type": "code",
   "execution_count": 2,
   "id": "8d631fa8",
   "metadata": {
    "execution": {
     "iopub.execute_input": "2025-10-28T22:40:25.465647Z",
     "iopub.status.busy": "2025-10-28T22:40:25.465490Z",
     "iopub.status.idle": "2025-10-28T22:40:25.477214Z",
     "shell.execute_reply": "2025-10-28T22:40:25.476710Z"
    }
   },
   "outputs": [
    {
     "data": {
      "text/html": [
       "<div>\n",
       "<style scoped>\n",
       "    .dataframe tbody tr th:only-of-type {\n",
       "        vertical-align: middle;\n",
       "    }\n",
       "\n",
       "    .dataframe tbody tr th {\n",
       "        vertical-align: top;\n",
       "    }\n",
       "\n",
       "    .dataframe thead th {\n",
       "        text-align: right;\n",
       "    }\n",
       "</style>\n",
       "<table border=\"1\" class=\"dataframe\">\n",
       "  <thead>\n",
       "    <tr style=\"text-align: right;\">\n",
       "      <th></th>\n",
       "      <th>id</th>\n",
       "      <th>measures</th>\n",
       "      <th>volume</th>\n",
       "      <th>usage_area</th>\n",
       "      <th>apartments</th>\n",
       "      <th>living_area</th>\n",
       "      <th>estimated_costs</th>\n",
       "    </tr>\n",
       "  </thead>\n",
       "  <tbody>\n",
       "    <tr>\n",
       "      <th>0</th>\n",
       "      <td>1</td>\n",
       "      <td>–</td>\n",
       "      <td>–</td>\n",
       "      <td>–</td>\n",
       "      <td>–</td>\n",
       "      <td>–</td>\n",
       "      <td>–</td>\n",
       "    </tr>\n",
       "    <tr>\n",
       "      <th>1</th>\n",
       "      <td>2</td>\n",
       "      <td>–</td>\n",
       "      <td>–</td>\n",
       "      <td>–</td>\n",
       "      <td>–</td>\n",
       "      <td>–</td>\n",
       "      <td>–</td>\n",
       "    </tr>\n",
       "    <tr>\n",
       "      <th>2</th>\n",
       "      <td>3</td>\n",
       "      <td>4</td>\n",
       "      <td>3</td>\n",
       "      <td>0.9</td>\n",
       "      <td>5</td>\n",
       "      <td>4.9</td>\n",
       "      <td>1225</td>\n",
       "    </tr>\n",
       "    <tr>\n",
       "      <th>3</th>\n",
       "      <td>4</td>\n",
       "      <td>5</td>\n",
       "      <td>8</td>\n",
       "      <td>5.5</td>\n",
       "      <td>5</td>\n",
       "      <td>11.3</td>\n",
       "      <td>5176</td>\n",
       "    </tr>\n",
       "    <tr>\n",
       "      <th>4</th>\n",
       "      <td>5</td>\n",
       "      <td>3</td>\n",
       "      <td>2</td>\n",
       "      <td>–</td>\n",
       "      <td>3</td>\n",
       "      <td>4</td>\n",
       "      <td>830</td>\n",
       "    </tr>\n",
       "  </tbody>\n",
       "</table>\n",
       "</div>"
      ],
      "text/plain": [
       "   id measures volume usage_area apartments living_area estimated_costs\n",
       "0   1        –      –          –          –           –               –\n",
       "1   2        –      –          –          –           –               –\n",
       "2   3        4      3        0.9          5         4.9            1225\n",
       "3   4        5      8        5.5          5        11.3            5176\n",
       "4   5        3      2          –          3           4             830"
      ]
     },
     "execution_count": 2,
     "metadata": {},
     "output_type": "execute_result"
    }
   ],
   "source": [
    "# Display 5 first rows\n",
    "dataframe.head()"
   ]
  },
  {
   "cell_type": "code",
   "execution_count": 3,
   "id": "73550505",
   "metadata": {
    "execution": {
     "iopub.execute_input": "2025-10-28T22:40:25.478728Z",
     "iopub.status.busy": "2025-10-28T22:40:25.478612Z",
     "iopub.status.idle": "2025-10-28T22:40:25.484545Z",
     "shell.execute_reply": "2025-10-28T22:40:25.484142Z"
    }
   },
   "outputs": [
    {
     "name": "stdout",
     "output_type": "stream",
     "text": [
      "<class 'pandas.core.frame.DataFrame'>\n",
      "RangeIndex: 12 entries, 0 to 11\n",
      "Data columns (total 7 columns):\n",
      " #   Column           Non-Null Count  Dtype \n",
      "---  ------           --------------  ----- \n",
      " 0   id               12 non-null     int64 \n",
      " 1   measures         12 non-null     object\n",
      " 2   volume           12 non-null     object\n",
      " 3   usage_area       12 non-null     object\n",
      " 4   apartments       12 non-null     object\n",
      " 5   living_area      12 non-null     object\n",
      " 6   estimated_costs  12 non-null     object\n",
      "dtypes: int64(1), object(6)\n",
      "memory usage: 804.0+ bytes\n"
     ]
    }
   ],
   "source": [
    "# Display dataframe info\n",
    "dataframe.info()"
   ]
  },
  {
   "cell_type": "code",
   "execution_count": 4,
   "id": "09bf60bb",
   "metadata": {
    "execution": {
     "iopub.execute_input": "2025-10-28T22:40:25.485911Z",
     "iopub.status.busy": "2025-10-28T22:40:25.485815Z",
     "iopub.status.idle": "2025-10-28T22:40:25.491290Z",
     "shell.execute_reply": "2025-10-28T22:40:25.490870Z"
    }
   },
   "outputs": [
    {
     "data": {
      "text/html": [
       "<div>\n",
       "<style scoped>\n",
       "    .dataframe tbody tr th:only-of-type {\n",
       "        vertical-align: middle;\n",
       "    }\n",
       "\n",
       "    .dataframe tbody tr th {\n",
       "        vertical-align: top;\n",
       "    }\n",
       "\n",
       "    .dataframe thead th {\n",
       "        text-align: right;\n",
       "    }\n",
       "</style>\n",
       "<table border=\"1\" class=\"dataframe\">\n",
       "  <thead>\n",
       "    <tr style=\"text-align: right;\">\n",
       "      <th></th>\n",
       "      <th>id</th>\n",
       "    </tr>\n",
       "  </thead>\n",
       "  <tbody>\n",
       "    <tr>\n",
       "      <th>count</th>\n",
       "      <td>12.000000</td>\n",
       "    </tr>\n",
       "    <tr>\n",
       "      <th>mean</th>\n",
       "      <td>6.500000</td>\n",
       "    </tr>\n",
       "    <tr>\n",
       "      <th>std</th>\n",
       "      <td>3.605551</td>\n",
       "    </tr>\n",
       "    <tr>\n",
       "      <th>min</th>\n",
       "      <td>1.000000</td>\n",
       "    </tr>\n",
       "    <tr>\n",
       "      <th>25%</th>\n",
       "      <td>3.750000</td>\n",
       "    </tr>\n",
       "    <tr>\n",
       "      <th>50%</th>\n",
       "      <td>6.500000</td>\n",
       "    </tr>\n",
       "    <tr>\n",
       "      <th>75%</th>\n",
       "      <td>9.250000</td>\n",
       "    </tr>\n",
       "    <tr>\n",
       "      <th>max</th>\n",
       "      <td>12.000000</td>\n",
       "    </tr>\n",
       "  </tbody>\n",
       "</table>\n",
       "</div>"
      ],
      "text/plain": [
       "              id\n",
       "count  12.000000\n",
       "mean    6.500000\n",
       "std     3.605551\n",
       "min     1.000000\n",
       "25%     3.750000\n",
       "50%     6.500000\n",
       "75%     9.250000\n",
       "max    12.000000"
      ]
     },
     "execution_count": 4,
     "metadata": {},
     "output_type": "execute_result"
    }
   ],
   "source": [
    "# Describe dataframe\n",
    "dataframe.describe()"
   ]
  }
 ],
 "metadata": {
  "language_info": {
   "codemirror_mode": {
    "name": "ipython",
    "version": 3
   },
   "file_extension": ".py",
   "mimetype": "text/x-python",
   "name": "python",
   "nbconvert_exporter": "python",
   "pygments_lexer": "ipython3",
   "version": "3.13.0"
  }
 },
 "nbformat": 4,
 "nbformat_minor": 5
}
